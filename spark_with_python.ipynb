{
 "cells": [
  {
   "cell_type": "markdown",
   "metadata": {},
   "source": [
    "<a id='top'></a>"
   ]
  },
  {
   "cell_type": "markdown",
   "metadata": {},
   "source": [
    "<a href='#rdd'>RDD</a> | <a href='#mr'>MapReduce</a> | <a href='#df'>SQL and DataFrames</a>  | <a href='#log'>Logistic Regression</a> | <a href='#lin'>Linear Regression</a>\n",
    "<br>\n",
    "\n",
    "---"
   ]
  },
  {
   "cell_type": "markdown",
   "metadata": {},
   "source": [
    "# SPARK with Python\n",
    "Apache Spark partitions data and computations over a cluster with multiple nodes (consider each node a separate computer). This makes it easier to work with very large datasets because each node only works with a small amount of data.\n",
    "\n",
    "As each node operates on a subset of the data, it also performs part of the calculations required, so that both data processing and computation are performed in parallel over the nodes in a cluster.\n",
    "\n",
    "* Install Apache Spark:\n",
    "```\n",
    "brew install apache-spark\n",
    "```\n",
    "* Confirm that Java SDK 1.8+ is installed.\n",
    "\n",
    "\n",
    "* To use in notebook:\n",
    "```\n",
    "pip install findspark\n",
    "```\n",
    "\n",
    "---\n",
    "From the Apache Spark 2.3.1 [Quick Start Guide](https://spark.apache.org/docs/2.3.1/quick-start.html):\n",
    ">Note that, before Spark 2.0, the main programming interface of Spark was the Resilient Distributed Dataset (RDD). After Spark 2.0, RDDs are replaced by Dataset (DataFrame), which is strongly-typed like an RDD, but with richer optimizations under the hood. The RDD interface is still [supported](https://spark.apache.org/docs/2.3.1/rdd-programming-guide.html). \n",
    "\n",
    "DataFrame has better performance than RDD.\n",
    "\n",
    "---\n",
    "## PYSPARK\n",
    "[PySpark](https://spark.apache.org/docs/2.3.1/api/python/index.html) is the Python API for Spark. Core classes include:\n",
    "\n",
    "`pyspark.SparkContext`\n",
    "\n",
    "* Main entry point for Spark functionality.\n",
    "\n",
    "`pyspark.RDD`\n",
    "\n",
    "* A Resilient Distributed Dataset (RDD), the basic abstraction in Spark.\n",
    "\n",
    "`pyspark.streaming.StreamingContext`\n",
    "\n",
    "* Main entry point for Spark Streaming functionality.\n",
    "\n",
    "`pyspark.streaming.DStream`\n",
    "\n",
    "* A Discretized Stream (DStream), the basic abstraction in Spark Streaming.\n",
    "\n",
    "`pyspark.sql.SQLContext`\n",
    "\n",
    "* Main entry point for DataFrame and SQL functionality.\n",
    "\n",
    "`pyspark.sql.DataFrame`\n",
    "\n",
    "* A distributed collection of data grouped into named columns."
   ]
  },
  {
   "cell_type": "code",
   "execution_count": 1,
   "metadata": {},
   "outputs": [],
   "source": [
    "import numpy as np\n",
    "import pandas as pd\n",
    "import matplotlib.pyplot as plt\n",
    "import seaborn as sns\n",
    "\n",
    "import findspark\n",
    "findspark.init()\n",
    "import pyspark\n",
    "\n",
    "from pyspark import SparkContext, SparkConf\n",
    "\n",
    "%matplotlib inline\n",
    "sns.set_style('whitegrid')\n",
    "sns.set_context(\"poster\")\n",
    "\n",
    "pd.options.display.max_columns = 310"
   ]
  },
  {
   "cell_type": "markdown",
   "metadata": {
    "slideshow": {
     "slide_type": "slide"
    }
   },
   "source": [
    "## Initialize Spark\n",
    "\n",
    "The first step for a Spark program is to access a cluster by creating a `SparkContext` object. The class constructor takes a few optional arguments that specify information about the application. A `SparkConf` object holds these attributes:\n",
    "```python\n",
    "conf = SparkConf().setAppName(appName).setMaster(master)\n",
    "sc = SparkContext(conf=conf)\n",
    "```\n",
    "The `appName` parameter is the name to show on the cluster UI. The `master` parameter specifies the remote or local machine that is connected to all other nodes. If the `SparkConf` object is not instantiated, defaults are implicit."
   ]
  },
  {
   "cell_type": "code",
   "execution_count": 2,
   "metadata": {},
   "outputs": [
    {
     "data": {
      "text/html": [
       "\n",
       "        <div>\n",
       "            <p><b>SparkContext</b></p>\n",
       "\n",
       "            <p><a href=\"http://cherylhurgsimac:4041\">Spark UI</a></p>\n",
       "\n",
       "            <dl>\n",
       "              <dt>Version</dt>\n",
       "                <dd><code>v2.3.1</code></dd>\n",
       "              <dt>Master</dt>\n",
       "                <dd><code>local[*]</code></dd>\n",
       "              <dt>AppName</dt>\n",
       "                <dd><code>pyspark-shell</code></dd>\n",
       "            </dl>\n",
       "        </div>\n",
       "        "
      ],
      "text/plain": [
       "<SparkContext master=local[*] appName=pyspark-shell>"
      ]
     },
     "execution_count": 2,
     "metadata": {},
     "output_type": "execute_result"
    }
   ],
   "source": [
    "sc = SparkContext()\n",
    "sc"
   ]
  },
  {
   "cell_type": "markdown",
   "metadata": {},
   "source": [
    "<a href='#top' id='rdd'>back to menu</a>"
   ]
  },
  {
   "cell_type": "markdown",
   "metadata": {
    "slideshow": {
     "slide_type": "slide"
    }
   },
   "source": [
    "---\n",
    "## RESILIENT DISTRIBUTED DATASET (RDD)\n",
    "Spark's core data structure is the [Resilient Distributed Dataset (RDD)](http://spark.apache.org/docs/2.1.0/api/python/pyspark.html#pyspark.RDD). RDDs are created by parallelizing an existing collection or referencing an external dataset.\n",
    "\n",
    "## Parallelizing\n",
    "Parallelized collections are created by calling the `SparkContext` `parallelize` method on an existing iterable or collection:\n",
    "```python\n",
    "data = [1, 2, 3, 4, 5, 6, 7, 8, 9, 10]\n",
    "rdd = sc.parallelize(data)\n",
    "```\n",
    "Spark will run one task for each partition of the cluster. The recommendation is 2-4 partitions for each CPU in the cluster which Spark tries to set automatically based on the cluster. However, the number of partitions can be set manually by passing it as a second parameter to parallelize: `sc.parallelize(data, 5)`."
   ]
  },
  {
   "cell_type": "code",
   "execution_count": 3,
   "metadata": {},
   "outputs": [
    {
     "data": {
      "text/plain": [
       "385"
      ]
     },
     "execution_count": 3,
     "metadata": {},
     "output_type": "execute_result"
    }
   ],
   "source": [
    "# Once created, the rdd can be operated on in parallel:\n",
    "sc.parallelize([1, 2, 3, 4, 5, 6, 7, 8, 9, 10]).map(lambda x: x**2).sum()"
   ]
  },
  {
   "cell_type": "markdown",
   "metadata": {},
   "source": [
    "## External Data\n",
    "External data collections are created by calling the `SparkContext` `textFile()` method on a URI for the file:\n",
    "```python\n",
    "rdd = sc.textFile('data.txt')\n",
    "```"
   ]
  },
  {
   "cell_type": "code",
   "execution_count": 4,
   "metadata": {},
   "outputs": [
    {
     "data": {
      "text/plain": [
       "133893"
      ]
     },
     "execution_count": 4,
     "metadata": {},
     "output_type": "execute_result"
    }
   ],
   "source": [
    "# Once created, the rdd can be acted on by dataset operations:\n",
    "sc.textFile('data/shakespeare/asyoulikeit.txt').map(lambda s: len(s)).sum()"
   ]
  },
  {
   "cell_type": "markdown",
   "metadata": {},
   "source": [
    "## Operations & Functions\n",
    "RDDs support two types of operations:\n",
    "* [Transformations](https://spark.apache.org/docs/2.3.1/rdd-programming-guide.html#transformations) - create a new dataset from an existing one.\n",
    "\n",
    "\n",
    "* [Actions](https://spark.apache.org/docs/2.3.1/rdd-programming-guide.html#actions) - return a value after running a computation on the dataset. \n",
    "\n",
    "\n",
    "Transformations in Spark are considered lazy because the results are not computed immediately. Instead, the transformations are applied only when an action is required to return a result, enabling Spark to run more efficiently."
   ]
  },
  {
   "cell_type": "code",
   "execution_count": 5,
   "metadata": {},
   "outputs": [
    {
     "name": "stdout",
     "output_type": "stream",
     "text": [
      "<class 'pyspark.rdd.RDD'>\n"
     ]
    },
    {
     "data": {
      "text/plain": [
       "ParallelCollectionRDD[5] at parallelize at PythonRDD.scala:184"
      ]
     },
     "execution_count": 5,
     "metadata": {},
     "output_type": "execute_result"
    }
   ],
   "source": [
    "mammals = ['rat', 'elephant', 'cat', 'rat', 'cat']\n",
    "rdd = sc.parallelize(mammals)\n",
    "print(type(rdd))\n",
    "rdd"
   ]
  },
  {
   "cell_type": "code",
   "execution_count": 6,
   "metadata": {},
   "outputs": [
    {
     "data": {
      "text/plain": [
       "['rat', 'elephant', 'cat', 'rat', 'cat']"
      ]
     },
     "execution_count": 6,
     "metadata": {},
     "output_type": "execute_result"
    }
   ],
   "source": [
    "rdd.collect()"
   ]
  },
  {
   "cell_type": "code",
   "execution_count": 7,
   "metadata": {},
   "outputs": [
    {
     "name": "stdout",
     "output_type": "stream",
     "text": [
      "dogs\n",
      "\n",
      "rats\n",
      "['rats', 'elephants']\n",
      "['rats', 'elephants', 'cats', 'rats', 'cats']\n"
     ]
    }
   ],
   "source": [
    "def make_plural(word):\n",
    "    return word + 's'\n",
    "\n",
    "print(make_plural('dog'))\n",
    "print()\n",
    "\n",
    "# transform the dataset, creating a new one:\n",
    "plural_words = rdd.map(make_plural)\n",
    "\n",
    "# view the results of some actions:\n",
    "print(plural_words.first())\n",
    "print(plural_words.take(2))\n",
    "print(plural_words.collect())"
   ]
  },
  {
   "cell_type": "markdown",
   "metadata": {
    "slideshow": {
     "slide_type": "slide"
    }
   },
   "source": [
    "## Key-Value Pairs and MapReduce\n",
    "Some operations, such as those that group or aggregate, can occur only on RDD objects made up of key-value pairs. For example, the `reduceByKey` operation counts the number of times each key occurs in the RDD.\n",
    "\n",
    "This is central to the MapReduce algorithm for returning the results of computations across very large datasets. \n",
    "\n",
    "* Map is a transformation that partitions the dataset and passes each element through a function which returns a new RDD of the results as tuples in key-value pairs.\n",
    "\n",
    "\n",
    "* Reduce is an action that first groups elements by key, then applies a function to aggregate all elements returning the result only, sometimes as a distributed dataset (Reduce by Key)."
   ]
  },
  {
   "cell_type": "code",
   "execution_count": 8,
   "metadata": {},
   "outputs": [
    {
     "data": {
      "text/plain": [
       "PythonRDD[9] at RDD at PythonRDD.scala:49"
      ]
     },
     "execution_count": 8,
     "metadata": {},
     "output_type": "execute_result"
    }
   ],
   "source": [
    "rdd.map(lambda s: len(s))"
   ]
  },
  {
   "cell_type": "code",
   "execution_count": 9,
   "metadata": {},
   "outputs": [
    {
     "data": {
      "text/plain": [
       "'ratelephantcatratcat'"
      ]
     },
     "execution_count": 9,
     "metadata": {},
     "output_type": "execute_result"
    }
   ],
   "source": [
    "rdd.reduce(lambda a, b: a + b)"
   ]
  },
  {
   "cell_type": "code",
   "execution_count": 10,
   "metadata": {},
   "outputs": [
    {
     "data": {
      "text/plain": [
       "[3, 8, 3, 3, 3]"
      ]
     },
     "execution_count": 10,
     "metadata": {},
     "output_type": "execute_result"
    }
   ],
   "source": [
    "rdd.map(lambda s: len(s)).collect()"
   ]
  },
  {
   "cell_type": "code",
   "execution_count": 11,
   "metadata": {},
   "outputs": [
    {
     "data": {
      "text/plain": [
       "20"
      ]
     },
     "execution_count": 11,
     "metadata": {},
     "output_type": "execute_result"
    }
   ],
   "source": [
    "rdd.map(lambda s: len(s)).reduce(lambda a, b: a + b)"
   ]
  },
  {
   "cell_type": "code",
   "execution_count": 12,
   "metadata": {},
   "outputs": [
    {
     "data": {
      "text/plain": [
       "20"
      ]
     },
     "execution_count": 12,
     "metadata": {},
     "output_type": "execute_result"
    }
   ],
   "source": [
    "rdd.map(lambda s: len(s)).sum()"
   ]
  },
  {
   "cell_type": "markdown",
   "metadata": {},
   "source": [
    "From the Spark [RDD Programming Guide](https://spark.apache.org/docs/2.3.1/rdd-programming-guide.html#shuffle-operations):\n",
    ">Certain operations within Spark trigger an event known as the shuffle. The shuffle is Spark’s mechanism for re-distributing data so that it’s grouped differently across partitions. This typically involves copying data across executors and machines, making the shuffle a complex and costly operation.\n",
    "\n",
    "The `reduceByKey` operation is an example of this.\n",
    "\n",
    "\n",
    "## Reduce by Key\n",
    "The diagram below illustrates `reduceByKey` very clearly! (Kudos and gratitude to the author.)\n",
    "\n",
    "![](http://people.revoledu.com/kardi/tutorial/DataScience/Image/mapreduce_example.png)\n",
    "\n",
    "(image credit: http://people.revoledu.com/kardi/tutorial/DataScience/Image/mapreduce_example.png)"
   ]
  },
  {
   "cell_type": "code",
   "execution_count": 13,
   "metadata": {},
   "outputs": [
    {
     "name": "stdout",
     "output_type": "stream",
     "text": [
      "PythonRDD[14] at RDD at PythonRDD.scala:49\n"
     ]
    }
   ],
   "source": [
    "word_pairs = rdd.map(lambda w: (w, 1))\n",
    "print(word_pairs)"
   ]
  },
  {
   "cell_type": "code",
   "execution_count": 14,
   "metadata": {},
   "outputs": [
    {
     "name": "stdout",
     "output_type": "stream",
     "text": [
      "[('rat', 1), ('elephant', 1), ('cat', 1), ('rat', 1), ('cat', 1)]\n"
     ]
    }
   ],
   "source": [
    "# ok, lazy, now print the pairs:\n",
    "print(word_pairs.collect())"
   ]
  },
  {
   "cell_type": "code",
   "execution_count": 15,
   "metadata": {},
   "outputs": [
    {
     "name": "stdout",
     "output_type": "stream",
     "text": [
      "PythonRDD[19] at RDD at PythonRDD.scala:49\n"
     ]
    }
   ],
   "source": [
    "print(word_pairs.reduceByKey(lambda a, b: a + b))"
   ]
  },
  {
   "cell_type": "code",
   "execution_count": 16,
   "metadata": {},
   "outputs": [
    {
     "name": "stdout",
     "output_type": "stream",
     "text": [
      "[('cat', 2), ('rat', 2), ('elephant', 1)]\n"
     ]
    }
   ],
   "source": [
    "# ok, lazy, now print the word counts:\n",
    "print(word_pairs.reduceByKey(lambda a, b: a + b).collect())"
   ]
  },
  {
   "cell_type": "code",
   "execution_count": 17,
   "metadata": {},
   "outputs": [
    {
     "data": {
      "text/plain": [
       "[('cat', 2), ('elephant', 1), ('rat', 2)]"
      ]
     },
     "execution_count": 17,
     "metadata": {},
     "output_type": "execute_result"
    }
   ],
   "source": [
    "# chain all operations, including sort:\n",
    "rdd.map(lambda w: (w, 1)).reduceByKey(lambda x,y: x+y).sortByKey().collect()"
   ]
  },
  {
   "cell_type": "markdown",
   "metadata": {
    "slideshow": {
     "slide_type": "slide"
    }
   },
   "source": [
    "## Persist (Cache) the RDD\n",
    "By default, each transformed RDD may be recomputed each time an action is run. Persisting an RDD in memory allows Spark to keep computed elements on the cluster for faster access the next time it is queried. \n",
    "\n",
    "* The first time a persisted RDD is computed in an action, it will be kept in memory on the nodes at the desired [storage level](https://spark.apache.org/docs/2.3.1/rdd-programming-guide.html#rdd-persistence), set by passing a `StorageLevel` object to `persist()`. \n",
    "\n",
    "\n",
    "* The `cache()` method applies the default, `StorageLevel.MEMORY_ONLY`.\n",
    "\n",
    "\n",
    "Caching is particularly useful for iterative algorithms:"
   ]
  },
  {
   "cell_type": "code",
   "execution_count": 18,
   "metadata": {},
   "outputs": [
    {
     "data": {
      "text/plain": [
       "{'cat': 'mammal',\n",
       " 'elephant': 'mammal',\n",
       " 'heron': 'bird',\n",
       " 'owl': 'bird',\n",
       " 'rat': 'mammal'}"
      ]
     },
     "execution_count": 18,
     "metadata": {},
     "output_type": "execute_result"
    }
   ],
   "source": [
    "birds = ['heron','owl']\n",
    "animals = mammals + birds\n",
    "animal_dictionary = {}\n",
    "\n",
    "for m in mammals:\n",
    "    animal_dictionary[m] = 'mammal'\n",
    "for b in birds:\n",
    "    animal_dictionary[b] = 'bird'\n",
    "    \n",
    "animal_dictionary"
   ]
  },
  {
   "cell_type": "code",
   "execution_count": 19,
   "metadata": {},
   "outputs": [
    {
     "name": "stdout",
     "output_type": "stream",
     "text": [
      "bird count: 2, mammal count: 5\n"
     ]
    }
   ],
   "source": [
    "animal_rdd = sc.parallelize(animals)\n",
    "animal_rdd.cache()\n",
    "\n",
    "mammal_count = animal_rdd.filter(lambda w: animal_dictionary[w]=='mammal').count()\n",
    "bird_count = animal_rdd.filter(lambda w: animal_dictionary[w]=='bird').count()\n",
    "\n",
    "print('bird count: {}, mammal count: {}'.format(bird_count, mammal_count))"
   ]
  },
  {
   "cell_type": "markdown",
   "metadata": {},
   "source": [
    "<a href='#top' id='mr'>back to menu</a>"
   ]
  },
  {
   "cell_type": "markdown",
   "metadata": {},
   "source": [
    "---\n",
    "## MAP REDUCE SHAKESPEARE\n",
    "\n"
   ]
  },
  {
   "cell_type": "markdown",
   "metadata": {},
   "source": [
    "The text file `english_stop.txt` contains a list of English stopwords, while the following files contain the text of some of Shakespeare's plays:\n",
    "```\n",
    "asyoulikeit.txt\n",
    "coriolanus.txt\n",
    "hamlet.txt\n",
    "juliuscaesar.txt\n",
    "kinglear.txt\n",
    "kingrichard3.txt\n",
    "macbeth.txt\n",
    "measureformeasure.txt\n",
    "merchantofvenice.txt\n",
    "midsummersnightdream.txt\n",
    "othello.txt\n",
    "romeojuliet.txt\n",
    "tamingshrew.txt\n",
    "titusandronicus.txt\n",
    "twelfthnight.txt\n",
    "```"
   ]
  },
  {
   "cell_type": "code",
   "execution_count": 20,
   "metadata": {
    "scrolled": false
   },
   "outputs": [
    {
     "data": {
      "text/plain": [
       "list"
      ]
     },
     "execution_count": 20,
     "metadata": {},
     "output_type": "execute_result"
    }
   ],
   "source": [
    "stop_words = sc.textFile('data/english_stop.txt').collect()\n",
    "type(stop_words)"
   ]
  },
  {
   "cell_type": "code",
   "execution_count": 21,
   "metadata": {},
   "outputs": [
    {
     "data": {
      "text/plain": [
       "pyspark.rdd.RDD"
      ]
     },
     "execution_count": 21,
     "metadata": {},
     "output_type": "execute_result"
    }
   ],
   "source": [
    "jc_rdd = sc.textFile('data/shakespeare/juliuscaesar.txt')\n",
    "type(jc_rdd)"
   ]
  },
  {
   "cell_type": "code",
   "execution_count": 22,
   "metadata": {
    "scrolled": true
   },
   "outputs": [
    {
     "name": "stdout",
     "output_type": "stream",
     "text": [
      "Number of words in Julius Caesar: 21185\n"
     ]
    }
   ],
   "source": [
    "import re\n",
    "\n",
    "jc_words = jc_rdd.flatMap(lambda w: w.split(' ')) \\\n",
    "    .map(lambda w: re.sub(r\"[^a-zA-Z']\", '', w)) \\\n",
    "    .map(lambda w: w.lower()) \\\n",
    "    .filter(lambda w: w != '')\n",
    "    \n",
    "print('Number of words in Julius Caesar:', len(jc_words.collect()))"
   ]
  },
  {
   "cell_type": "code",
   "execution_count": 23,
   "metadata": {},
   "outputs": [
    {
     "name": "stdout",
     "output_type": "stream",
     "text": [
      "The first 20 words of Julius Caesar:\n"
     ]
    },
    {
     "data": {
      "text/plain": [
       "['the',\n",
       " 'tragedy',\n",
       " 'of',\n",
       " 'julius',\n",
       " 'caesar',\n",
       " 'by',\n",
       " 'william',\n",
       " 'shakespeare',\n",
       " 'dramatis',\n",
       " 'personae',\n",
       " 'julius',\n",
       " 'caesar',\n",
       " 'roman',\n",
       " 'statesman',\n",
       " 'and',\n",
       " 'general',\n",
       " 'octavius',\n",
       " 'triumvir',\n",
       " 'after',\n",
       " \"caesar's\"]"
      ]
     },
     "execution_count": 23,
     "metadata": {},
     "output_type": "execute_result"
    }
   ],
   "source": [
    "print('The first 20 words of Julius Caesar:')\n",
    "jc_words.collect()[:20]"
   ]
  },
  {
   "cell_type": "code",
   "execution_count": 24,
   "metadata": {},
   "outputs": [
    {
     "name": "stdout",
     "output_type": "stream",
     "text": [
      "The first 20 words of Julius Caesar minus stop words:\n"
     ]
    },
    {
     "data": {
      "text/plain": [
       "['tragedy',\n",
       " 'julius',\n",
       " 'caesar',\n",
       " 'william',\n",
       " 'shakespeare',\n",
       " 'dramatis',\n",
       " 'personae',\n",
       " 'julius',\n",
       " 'caesar',\n",
       " 'roman',\n",
       " 'statesman',\n",
       " 'general',\n",
       " 'octavius',\n",
       " 'triumvir',\n",
       " \"caesar's\",\n",
       " 'death',\n",
       " 'augustus',\n",
       " 'caesar',\n",
       " 'emperor',\n",
       " 'rome']"
      ]
     },
     "execution_count": 24,
     "metadata": {},
     "output_type": "execute_result"
    }
   ],
   "source": [
    "print('The first 20 words of Julius Caesar minus stop words:')\n",
    "jc_words.filter(lambda w: w not in stop_words).collect()[:20]"
   ]
  },
  {
   "cell_type": "code",
   "execution_count": 25,
   "metadata": {},
   "outputs": [],
   "source": [
    "# MapReduce:\n",
    "jc_word_counts = jc_words.filter(lambda w: w not in stop_words).map(lambda w: (w, 1)).reduceByKey(lambda x,y: x+y)\n",
    "\n",
    "# Top 20 word counts:\n",
    "top20_jc_words = jc_word_counts.takeOrdered(20, lambda e: -e[1])"
   ]
  },
  {
   "cell_type": "code",
   "execution_count": 26,
   "metadata": {},
   "outputs": [
    {
     "data": {
      "image/png": "[encoded data removed]",
      "text/plain": [
       "<matplotlib.figure.Figure at 0x1a12b61588>"
      ]
     },
     "metadata": {},
     "output_type": "display_data"
    }
   ],
   "source": [
    "fig, ax = plt.subplots(figsize=(12, 6))\n",
    "plt.bar(range(len(top20_jc_words)), [e[1] for e in top20_jc_words], align='center')\n",
    "plt.xticks(range(len(top20_jc_words)), [e[0] for e in top20_jc_words])\n",
    "plt.xticks(rotation=75)\n",
    "plt.title('Top 20 word counts in Julius Caesar');"
   ]
  },
  {
   "cell_type": "markdown",
   "metadata": {},
   "source": [
    "## Scale MapReduce\n",
    "The efficiency of MapReduce is that scaling an application to run over hundreds or thousands+ machines in a cluster involves a simple configuration change.\n",
    "\n",
    "Spark will run one task for each partition of the cluster. For parallel collections the recommendation is 2-4 partitions for each CPU in the cluster which Spark tries to set automatically based on the cluster. The default for external data is one partition for each block (about 128MB) of the file, but there cannot be fewer partitions than blocks.\n",
    "\n",
    "In order to use all of the available processing power, the number of partitions can be set manually by passing it as a second parameter to `parallelize()` or `textFile()`."
   ]
  },
  {
   "cell_type": "code",
   "execution_count": 27,
   "metadata": {},
   "outputs": [
    {
     "data": {
      "text/plain": [
       "pyspark.rdd.RDD"
      ]
     },
     "execution_count": 27,
     "metadata": {},
     "output_type": "execute_result"
    }
   ],
   "source": [
    "bard_rdd = sc.textFile('data/shakespeare/*.txt', 4)\n",
    "type(bard_rdd)"
   ]
  },
  {
   "cell_type": "code",
   "execution_count": 28,
   "metadata": {},
   "outputs": [
    {
     "name": "stdout",
     "output_type": "stream",
     "text": [
      "Number of words in 15 Shakespeare Plays: 364505\n"
     ]
    }
   ],
   "source": [
    "bard_words = bard_rdd.flatMap(lambda w: w.split(' ')) \\\n",
    "    .map(lambda w: re.sub(r\"[^a-zA-Z']\", '', w)) \\\n",
    "    .map(lambda w: w.lower()) \\\n",
    "    .filter(lambda w: w != '')\n",
    "    \n",
    "print('Number of words in 15 Shakespeare Plays:', len(bard_words.collect()))"
   ]
  },
  {
   "cell_type": "code",
   "execution_count": 29,
   "metadata": {},
   "outputs": [
    {
     "data": {
      "text/plain": [
       "['william', 'shakespeare', 'dramatis', 'personae', 'duke']"
      ]
     },
     "execution_count": 29,
     "metadata": {},
     "output_type": "execute_result"
    }
   ],
   "source": [
    "bard_words.filter(lambda w: w not in stop_words).take(5)"
   ]
  },
  {
   "cell_type": "code",
   "execution_count": 30,
   "metadata": {},
   "outputs": [],
   "source": [
    "# MapReduce:\n",
    "bard_word_counts = bard_words.filter(lambda w: w not in stop_words).map(lambda w: (w, 1)).reduceByKey(lambda x,y: x+y)\n",
    "\n",
    "# Top 20 word counts:\n",
    "top20_bard_words = bard_word_counts.takeOrdered(20, lambda e: -e[1])"
   ]
  },
  {
   "cell_type": "code",
   "execution_count": 31,
   "metadata": {},
   "outputs": [
    {
     "data": {
      "image/png": "[encoded data removed]",
      "text/plain": [
       "<matplotlib.figure.Figure at 0x1a12d51128>"
      ]
     },
     "metadata": {},
     "output_type": "display_data"
    }
   ],
   "source": [
    "fig, ax = plt.subplots(figsize=(12, 6))\n",
    "plt.bar(range(len(top20_bard_words)), [e[1] for e in top20_bard_words], align='center')\n",
    "plt.xticks(range(len(top20_bard_words)), [e[0] for e in top20_bard_words])\n",
    "plt.xticks(rotation=75)\n",
    "plt.title('Top 20 word counts in 15 Shakespeare Plays');"
   ]
  },
  {
   "cell_type": "markdown",
   "metadata": {},
   "source": [
    "<a href='#top' id='df'>back to menu</a>"
   ]
  },
  {
   "cell_type": "markdown",
   "metadata": {},
   "source": [
    "---\n",
    "## SQL & SPARK DATAFRAMES\n",
    "Determining the best optimization makes RDDs more complicated, but the Spark SQL module has structured data optimization built in, and it can process data via SQL or Spark DataFrame.\n",
    "\n",
    "First, create a `SparkSession` object from the `SparkContext`. \n",
    "\n",
    "Whereas `SparkContext` is the connection to the cluster, the `SparkSession` is the interface with that connection. \n",
    "\n",
    "Best practice is to use the `SparkSession.builder.getOrCreate()` method which returns an existing session, or creates a new one if there's not one already in the environment."
   ]
  },
  {
   "cell_type": "code",
   "execution_count": 32,
   "metadata": {},
   "outputs": [
    {
     "data": {
      "text/html": [
       "\n",
       "            <div>\n",
       "                <p><b>SparkSession - in-memory</b></p>\n",
       "                \n",
       "        <div>\n",
       "            <p><b>SparkContext</b></p>\n",
       "\n",
       "            <p><a href=\"http://cherylhurgsimac:4041\">Spark UI</a></p>\n",
       "\n",
       "            <dl>\n",
       "              <dt>Version</dt>\n",
       "                <dd><code>v2.3.1</code></dd>\n",
       "              <dt>Master</dt>\n",
       "                <dd><code>local[*]</code></dd>\n",
       "              <dt>AppName</dt>\n",
       "                <dd><code>pyspark-shell</code></dd>\n",
       "            </dl>\n",
       "        </div>\n",
       "        \n",
       "            </div>\n",
       "        "
      ],
      "text/plain": [
       "<pyspark.sql.session.SparkSession at 0x1a12ce5d68>"
      ]
     },
     "execution_count": 32,
     "metadata": {},
     "output_type": "execute_result"
    }
   ],
   "source": [
    "from pyspark.sql import SparkSession\n",
    "\n",
    "# Create spark session:\n",
    "session = SparkSession.builder.getOrCreate()\n",
    "session"
   ]
  },
  {
   "cell_type": "markdown",
   "metadata": {},
   "source": [
    "## Create DataFrames and Register Tables\n",
    "To create a Spark DataFrame on the SparkSession:\n",
    "```python\n",
    "sprk_df = session.read.csv('filepath/file.csv', header=True)\n",
    "```\n",
    "\n",
    "To run SQL queries over a dataframe, the table must be registered as a temporary view or persistent table.\n",
    "\n",
    "```python\n",
    "# Register dataframe as temporary view:\n",
    "sprk_df.createOrReplaceTempView('table_name')\n",
    "\n",
    "# Register dataframe as persistent table:\n",
    "sprk_df.saveAsTable('table_name')\n",
    "```"
   ]
  },
  {
   "cell_type": "code",
   "execution_count": 33,
   "metadata": {},
   "outputs": [
    {
     "name": "stdout",
     "output_type": "stream",
     "text": [
      "[Table(name='jan_2018', database=None, description=None, tableType='TEMPORARY', isTemporary=True)]\n",
      "\n",
      "+----------------+--------------+----------------+--------+---------+\n",
      "|   Incident Date|         State|  City Or County|# Killed|# Injured|\n",
      "+----------------+--------------+----------------+--------+---------+\n",
      "|January 31, 2018|South Carolina|North Charleston|       0|        0|\n",
      "|January 31, 2018|South Carolina|    Myrtle Beach|       0|        1|\n",
      "|January 31, 2018|South Carolina|      Blacksburg|       0|        0|\n",
      "|January 31, 2018|South Carolina|      Orangeburg|       0|        0|\n",
      "|January 31, 2018|South Carolina|      Greenville|       1|        0|\n",
      "+----------------+--------------+----------------+--------+---------+\n",
      "only showing top 5 rows\n",
      "\n"
     ]
    }
   ],
   "source": [
    "# data source: http://www.gunviolencearchive.org/\n",
    "\n",
    "# Save file as a spark dataframe:\n",
    "sprk_df_jan = session.read.csv('data/gun_violence/jan2018_sc.csv', header=True).drop(*['Address', 'Operations'])\n",
    "\n",
    "# Register dataframe as SQL temporary table:\n",
    "sprk_df_jan.createOrReplaceTempView('jan_2018')\n",
    "\n",
    "# Print the tables in the catalog:\n",
    "print(session.catalog.listTables())\n",
    "print()\n",
    "\n",
    "sprk_df_jan.show(5)"
   ]
  },
  {
   "cell_type": "code",
   "execution_count": 34,
   "metadata": {},
   "outputs": [
    {
     "data": {
      "text/plain": [
       "pyspark.sql.dataframe.DataFrame"
      ]
     },
     "execution_count": 34,
     "metadata": {},
     "output_type": "execute_result"
    }
   ],
   "source": [
    "type(sprk_df_jan)"
   ]
  },
  {
   "cell_type": "markdown",
   "metadata": {},
   "source": [
    "### Convert Pandas DataFrame to Spark DataFrame"
   ]
  },
  {
   "cell_type": "code",
   "execution_count": 35,
   "metadata": {},
   "outputs": [
    {
     "name": "stdout",
     "output_type": "stream",
     "text": [
      "<class 'pandas.core.frame.DataFrame'>\n",
      "\n"
     ]
    },
    {
     "data": {
      "text/html": [
       "<div>\n",
       "<style scoped>\n",
       "    .dataframe tbody tr th:only-of-type {\n",
       "        vertical-align: middle;\n",
       "    }\n",
       "\n",
       "    .dataframe tbody tr th {\n",
       "        vertical-align: top;\n",
       "    }\n",
       "\n",
       "    .dataframe thead th {\n",
       "        text-align: right;\n",
       "    }\n",
       "</style>\n",
       "<table border=\"1\" class=\"dataframe\">\n",
       "  <thead>\n",
       "    <tr style=\"text-align: right;\">\n",
       "      <th></th>\n",
       "      <th>Incident Date</th>\n",
       "      <th>State</th>\n",
       "      <th>City Or County</th>\n",
       "      <th># Killed</th>\n",
       "      <th># Injured</th>\n",
       "    </tr>\n",
       "  </thead>\n",
       "  <tbody>\n",
       "    <tr>\n",
       "      <th>0</th>\n",
       "      <td>February 28, 2018</td>\n",
       "      <td>South Carolina</td>\n",
       "      <td>Inman</td>\n",
       "      <td>0</td>\n",
       "      <td>0</td>\n",
       "    </tr>\n",
       "    <tr>\n",
       "      <th>1</th>\n",
       "      <td>February 28, 2018</td>\n",
       "      <td>South Carolina</td>\n",
       "      <td>Greenville</td>\n",
       "      <td>0</td>\n",
       "      <td>0</td>\n",
       "    </tr>\n",
       "    <tr>\n",
       "      <th>2</th>\n",
       "      <td>February 28, 2018</td>\n",
       "      <td>South Carolina</td>\n",
       "      <td>North Charleston</td>\n",
       "      <td>0</td>\n",
       "      <td>1</td>\n",
       "    </tr>\n",
       "    <tr>\n",
       "      <th>3</th>\n",
       "      <td>February 28, 2018</td>\n",
       "      <td>South Carolina</td>\n",
       "      <td>Greenwood</td>\n",
       "      <td>1</td>\n",
       "      <td>0</td>\n",
       "    </tr>\n",
       "    <tr>\n",
       "      <th>4</th>\n",
       "      <td>February 27, 2018</td>\n",
       "      <td>South Carolina</td>\n",
       "      <td>Warrenville</td>\n",
       "      <td>0</td>\n",
       "      <td>0</td>\n",
       "    </tr>\n",
       "  </tbody>\n",
       "</table>\n",
       "</div>"
      ],
      "text/plain": [
       "       Incident Date           State    City Or County  # Killed  # Injured\n",
       "0  February 28, 2018  South Carolina             Inman         0          0\n",
       "1  February 28, 2018  South Carolina        Greenville         0          0\n",
       "2  February 28, 2018  South Carolina  North Charleston         0          1\n",
       "3  February 28, 2018  South Carolina         Greenwood         1          0\n",
       "4  February 27, 2018  South Carolina       Warrenville         0          0"
      ]
     },
     "execution_count": 35,
     "metadata": {},
     "output_type": "execute_result"
    }
   ],
   "source": [
    "# Save file as a pandas dataframe:\n",
    "pd_df_feb = pd.read_csv('data/gun_violence/feb2018_sc.csv').drop(['Address', 'Operations'], axis=1)\n",
    "\n",
    "print(type(pd_df_feb))\n",
    "print()\n",
    "pd_df_feb.head()"
   ]
  },
  {
   "cell_type": "code",
   "execution_count": 36,
   "metadata": {},
   "outputs": [
    {
     "name": "stdout",
     "output_type": "stream",
     "text": [
      "<class 'pyspark.sql.dataframe.DataFrame'>\n",
      "\n"
     ]
    },
    {
     "data": {
      "text/plain": [
       "[Table(name='feb_2018', database=None, description=None, tableType='TEMPORARY', isTemporary=True),\n",
       " Table(name='jan_2018', database=None, description=None, tableType='TEMPORARY', isTemporary=True)]"
      ]
     },
     "execution_count": 36,
     "metadata": {},
     "output_type": "execute_result"
    }
   ],
   "source": [
    "sprk_df_feb = session.createDataFrame(pd_df_feb)\n",
    "\n",
    "sprk_df_feb.createOrReplaceTempView('feb_2018')\n",
    "\n",
    "print(type(sprk_df_feb))\n",
    "print()\n",
    "session.catalog.listTables()"
   ]
  },
  {
   "cell_type": "markdown",
   "metadata": {},
   "source": [
    "### Spark DataFrames are Immutable\n",
    "The Spark DataFrame is immutable, so data cannot be updated in place. To overwrite the original DataFrame, reassign the returned DataFrame."
   ]
  },
  {
   "cell_type": "code",
   "execution_count": 37,
   "metadata": {},
   "outputs": [
    {
     "data": {
      "text/plain": [
       "pyspark.sql.column.Column"
      ]
     },
     "execution_count": 37,
     "metadata": {},
     "output_type": "execute_result"
    }
   ],
   "source": [
    "type(sprk_df_jan.State)"
   ]
  },
  {
   "cell_type": "code",
   "execution_count": 38,
   "metadata": {},
   "outputs": [
    {
     "name": "stdout",
     "output_type": "stream",
     "text": [
      "+----------------+--------------+----------------+--------+---------+----------+\n",
      "|   Incident Date|         State|  City Or County|# Killed|# Injured|Casualties|\n",
      "+----------------+--------------+----------------+--------+---------+----------+\n",
      "|January 31, 2018|South Carolina|North Charleston|       0|        0|       0.0|\n",
      "|January 31, 2018|South Carolina|    Myrtle Beach|       0|        1|       1.0|\n",
      "|January 31, 2018|South Carolina|      Blacksburg|       0|        0|       0.0|\n",
      "|January 31, 2018|South Carolina|      Orangeburg|       0|        0|       0.0|\n",
      "|January 31, 2018|South Carolina|      Greenville|       1|        0|       1.0|\n",
      "+----------------+--------------+----------------+--------+---------+----------+\n",
      "only showing top 5 rows\n",
      "\n"
     ]
    }
   ],
   "source": [
    "sprk_df_jan = sprk_df_jan.withColumn('Casualties', sprk_df_jan['# Killed'] + sprk_df_jan['# Injured'])\n",
    "sprk_df_jan.show(5)"
   ]
  },
  {
   "cell_type": "markdown",
   "metadata": {},
   "source": [
    "The column was added to the dataframe only, not the table view that was created earlier.\n",
    "\n",
    "## SQL Queries\n",
    "The DataFrame interface allows SQL queries on tables in the Spark cluster."
   ]
  },
  {
   "cell_type": "code",
   "execution_count": 39,
   "metadata": {},
   "outputs": [
    {
     "name": "stdout",
     "output_type": "stream",
     "text": [
      "+----------------+--------------+----------------+--------+---------+\n",
      "|   Incident Date|         State|  City Or County|# Killed|# Injured|\n",
      "+----------------+--------------+----------------+--------+---------+\n",
      "|January 31, 2018|South Carolina|North Charleston|       0|        0|\n",
      "|January 31, 2018|South Carolina|    Myrtle Beach|       0|        1|\n",
      "|January 31, 2018|South Carolina|      Blacksburg|       0|        0|\n",
      "|January 31, 2018|South Carolina|      Orangeburg|       0|        0|\n",
      "|January 31, 2018|South Carolina|      Greenville|       1|        0|\n",
      "+----------------+--------------+----------------+--------+---------+\n",
      "\n"
     ]
    }
   ],
   "source": [
    "session.sql('FROM jan_2018 SELECT * LIMIT 5').show()"
   ]
  },
  {
   "cell_type": "code",
   "execution_count": 40,
   "metadata": {},
   "outputs": [
    {
     "data": {
      "text/plain": [
       "[Table(name='feb_2018', database=None, description=None, tableType='TEMPORARY', isTemporary=True),\n",
       " Table(name='jan_2018', database=None, description=None, tableType='TEMPORARY', isTemporary=True),\n",
       " Table(name='mar_2018', database=None, description=None, tableType='TEMPORARY', isTemporary=True)]"
      ]
     },
     "execution_count": 40,
     "metadata": {},
     "output_type": "execute_result"
    }
   ],
   "source": [
    "# Save file as a spark dataframe:\n",
    "sprk_df_mar = session.read.csv('data/gun_violence/mar2018_sc.csv', header=True).drop(*['Address', 'Operations'])\n",
    "\n",
    "# Register dataframe as SQL temporary table:\n",
    "sprk_df_mar.createOrReplaceTempView('mar_2018')\n",
    "\n",
    "\n",
    "session.catalog.listTables()"
   ]
  },
  {
   "cell_type": "code",
   "execution_count": 41,
   "metadata": {},
   "outputs": [
    {
     "name": "stdout",
     "output_type": "stream",
     "text": [
      "+----------------+--------------+--------------+--------+---------+\n",
      "|   Incident Date|         State|City Or County|# Killed|# Injured|\n",
      "+----------------+--------------+--------------+--------+---------+\n",
      "|January 16, 2018|South Carolina|          York|       1|        4|\n",
      "+----------------+--------------+--------------+--------+---------+\n",
      "\n"
     ]
    }
   ],
   "source": [
    "# Query mass shootings in January 2018:\n",
    "query = 'FROM jan_2018 SELECT * WHERE `# Killed` + `# Injured` >= 4'\n",
    "session.sql(query).show()"
   ]
  },
  {
   "cell_type": "code",
   "execution_count": 42,
   "metadata": {},
   "outputs": [
    {
     "name": "stdout",
     "output_type": "stream",
     "text": [
      "+--------------+---------------+\n",
      "|City Or County|count(# Killed)|\n",
      "+--------------+---------------+\n",
      "|      Bluffton|              1|\n",
      "|    Charleston|              4|\n",
      "|    Georgetown|              2|\n",
      "|         Lyman|              1|\n",
      "|        Conway|              1|\n",
      "|        Marion|              1|\n",
      "|        Sumter|              2|\n",
      "|         Lamar|              1|\n",
      "|      Beaufort|              1|\n",
      "|        Camden|              1|\n",
      "+--------------+---------------+\n",
      "only showing top 10 rows\n",
      "\n"
     ]
    }
   ],
   "source": [
    "# Group and aggregate gun deaths by county in February 2018:\n",
    "query = 'FROM feb_2018 SELECT `City Or County`, COUNT(`# Killed`) GROUP BY `City Or County`'\n",
    "session.sql(query).show(10)"
   ]
  },
  {
   "cell_type": "markdown",
   "metadata": {},
   "source": [
    "### Convert Spark DataFrame to Pandas DataFrame\n",
    "After running a query on a huge dataset and aggregating it down to something more manageable, it may make sense to work with it locally in pandas."
   ]
  },
  {
   "cell_type": "code",
   "execution_count": 43,
   "metadata": {},
   "outputs": [
    {
     "data": {
      "text/html": [
       "<div>\n",
       "<style scoped>\n",
       "    .dataframe tbody tr th:only-of-type {\n",
       "        vertical-align: middle;\n",
       "    }\n",
       "\n",
       "    .dataframe tbody tr th {\n",
       "        vertical-align: top;\n",
       "    }\n",
       "\n",
       "    .dataframe thead th {\n",
       "        text-align: right;\n",
       "    }\n",
       "</style>\n",
       "<table border=\"1\" class=\"dataframe\">\n",
       "  <thead>\n",
       "    <tr style=\"text-align: right;\">\n",
       "      <th></th>\n",
       "      <th>City Or County</th>\n",
       "      <th>count(# Killed)</th>\n",
       "    </tr>\n",
       "  </thead>\n",
       "  <tbody>\n",
       "    <tr>\n",
       "      <th>0</th>\n",
       "      <td>Blythewood</td>\n",
       "      <td>2</td>\n",
       "    </tr>\n",
       "    <tr>\n",
       "      <th>1</th>\n",
       "      <td>Saint George</td>\n",
       "      <td>1</td>\n",
       "    </tr>\n",
       "    <tr>\n",
       "      <th>2</th>\n",
       "      <td>Charleston</td>\n",
       "      <td>3</td>\n",
       "    </tr>\n",
       "    <tr>\n",
       "      <th>3</th>\n",
       "      <td>Conway</td>\n",
       "      <td>2</td>\n",
       "    </tr>\n",
       "    <tr>\n",
       "      <th>4</th>\n",
       "      <td>Marion</td>\n",
       "      <td>1</td>\n",
       "    </tr>\n",
       "    <tr>\n",
       "      <th>5</th>\n",
       "      <td>Eutawville</td>\n",
       "      <td>1</td>\n",
       "    </tr>\n",
       "    <tr>\n",
       "      <th>6</th>\n",
       "      <td>Allendale</td>\n",
       "      <td>1</td>\n",
       "    </tr>\n",
       "    <tr>\n",
       "      <th>7</th>\n",
       "      <td>Adams Run</td>\n",
       "      <td>1</td>\n",
       "    </tr>\n",
       "    <tr>\n",
       "      <th>8</th>\n",
       "      <td>Beaufort</td>\n",
       "      <td>1</td>\n",
       "    </tr>\n",
       "    <tr>\n",
       "      <th>9</th>\n",
       "      <td>Latta</td>\n",
       "      <td>1</td>\n",
       "    </tr>\n",
       "  </tbody>\n",
       "</table>\n",
       "</div>"
      ],
      "text/plain": [
       "  City Or County  count(# Killed)\n",
       "0     Blythewood                2\n",
       "1   Saint George                1\n",
       "2     Charleston                3\n",
       "3         Conway                2\n",
       "4         Marion                1\n",
       "5     Eutawville                1\n",
       "6      Allendale                1\n",
       "7      Adams Run                1\n",
       "8       Beaufort                1\n",
       "9          Latta                1"
      ]
     },
     "execution_count": 43,
     "metadata": {},
     "output_type": "execute_result"
    }
   ],
   "source": [
    "query = 'FROM mar_2018 SELECT `City Or County`, COUNT(`# Killed`) GROUP BY `City Or County`'\n",
    "county_counts = session.sql(query)\n",
    "pd_counts = county_counts.toPandas()\n",
    "pd_counts.head(10)"
   ]
  },
  {
   "cell_type": "code",
   "execution_count": 44,
   "metadata": {},
   "outputs": [
    {
     "data": {
      "text/plain": [
       "pandas.core.frame.DataFrame"
      ]
     },
     "execution_count": 44,
     "metadata": {},
     "output_type": "execute_result"
    }
   ],
   "source": [
    "type(pd_counts)"
   ]
  },
  {
   "cell_type": "markdown",
   "metadata": {},
   "source": [
    "## DataFrame Operations\n",
    "\n",
    "### Filter Data"
   ]
  },
  {
   "cell_type": "code",
   "execution_count": 45,
   "metadata": {},
   "outputs": [
    {
     "name": "stdout",
     "output_type": "stream",
     "text": [
      "+----------------+--------------+--------------+--------+---------+----------+\n",
      "|   Incident Date|         State|City Or County|# Killed|# Injured|Casualties|\n",
      "+----------------+--------------+--------------+--------+---------+----------+\n",
      "|January 16, 2018|South Carolina|          York|       1|        4|       5.0|\n",
      "+----------------+--------------+--------------+--------+---------+----------+\n",
      "\n"
     ]
    }
   ],
   "source": [
    "# Filter mass shootings in SC for January 2018:\n",
    "sprk_df_jan.filter(sprk_df_jan.Casualties >= 4).show()"
   ]
  },
  {
   "cell_type": "code",
   "execution_count": 46,
   "metadata": {},
   "outputs": [
    {
     "name": "stdout",
     "output_type": "stream",
     "text": [
      "+-------------+-----+--------------+--------+---------+\n",
      "|Incident Date|State|City Or County|# Killed|# Injured|\n",
      "+-------------+-----+--------------+--------+---------+\n",
      "+-------------+-----+--------------+--------+---------+\n",
      "\n"
     ]
    }
   ],
   "source": [
    "# Filter mass shootings in SC for February 2018:\n",
    "sprk_df_feb.filter((sprk_df_feb['# Killed'] + sprk_df_feb['# Injured']) >= 4).show()"
   ]
  },
  {
   "cell_type": "markdown",
   "metadata": {},
   "source": [
    "### Select Columns"
   ]
  },
  {
   "cell_type": "code",
   "execution_count": 47,
   "metadata": {},
   "outputs": [
    {
     "name": "stdout",
     "output_type": "stream",
     "text": [
      "+----------------+----------------+----------+\n",
      "|   Incident Date|  City Or County|Casualties|\n",
      "+----------------+----------------+----------+\n",
      "|January 31, 2018|North Charleston|       0.0|\n",
      "|January 31, 2018|    Myrtle Beach|       1.0|\n",
      "|January 31, 2018|      Blacksburg|       0.0|\n",
      "|January 31, 2018|      Orangeburg|       0.0|\n",
      "|January 31, 2018|      Greenville|       1.0|\n",
      "+----------------+----------------+----------+\n",
      "only showing top 5 rows\n",
      "\n"
     ]
    }
   ],
   "source": [
    "casualties = sprk_df_jan.select('Incident Date', 'City Or County', 'Casualties')\n",
    "casualties.show(5)"
   ]
  },
  {
   "cell_type": "code",
   "execution_count": 48,
   "metadata": {},
   "outputs": [
    {
     "name": "stdout",
     "output_type": "stream",
     "text": [
      "+----------------+----------------+----------+\n",
      "|   Incident Date|  City Or County|Casualties|\n",
      "+----------------+----------------+----------+\n",
      "|January 28, 2018|North Charleston|       1.0|\n",
      "|January 17, 2018|North Charleston|       1.0|\n",
      "| January 3, 2018|North Charleston|       1.0|\n",
      "+----------------+----------------+----------+\n",
      "\n"
     ]
    }
   ],
   "source": [
    "filter_1 = casualties['City Or County'] == 'North Charleston'\n",
    "filter_2 = casualties.Casualties >= 1\n",
    "casualties.filter(filter_1).filter(filter_2).show()"
   ]
  },
  {
   "cell_type": "code",
   "execution_count": 49,
   "metadata": {},
   "outputs": [
    {
     "name": "stdout",
     "output_type": "stream",
     "text": [
      "+-----------------+----------------+----------+\n",
      "|    Incident Date|  City Or County|Casualties|\n",
      "+-----------------+----------------+----------+\n",
      "|February 28, 2018|           Inman|         0|\n",
      "|February 28, 2018|      Greenville|         0|\n",
      "|February 28, 2018|North Charleston|         1|\n",
      "|February 28, 2018|       Greenwood|         1|\n",
      "|February 27, 2018|     Warrenville|         0|\n",
      "+-----------------+----------------+----------+\n",
      "only showing top 5 rows\n",
      "\n"
     ]
    }
   ],
   "source": [
    "casualties = (sprk_df_feb['# Killed'] + sprk_df_feb['# Injured']).alias('Casualties')\n",
    "sprk_df_feb.select('Incident Date', 'City Or County', casualties).show(5)"
   ]
  },
  {
   "cell_type": "code",
   "execution_count": 50,
   "metadata": {},
   "outputs": [
    {
     "name": "stdout",
     "output_type": "stream",
     "text": [
      "+-----------------+----------------+----------+\n",
      "|    Incident Date|  City Or County|Casualties|\n",
      "+-----------------+----------------+----------+\n",
      "|February 28, 2018|           Inman|         0|\n",
      "|February 28, 2018|      Greenville|         0|\n",
      "|February 28, 2018|North Charleston|         1|\n",
      "|February 28, 2018|       Greenwood|         1|\n",
      "|February 27, 2018|     Warrenville|         0|\n",
      "+-----------------+----------------+----------+\n",
      "only showing top 5 rows\n",
      "\n"
     ]
    }
   ],
   "source": [
    "sprk_df_feb.selectExpr('`Incident Date`', '`City Or County`', '`# Killed` + `# Injured` as Casualties').show(5)"
   ]
  },
  {
   "cell_type": "markdown",
   "metadata": {},
   "source": [
    "### Group and Aggregate"
   ]
  },
  {
   "cell_type": "code",
   "execution_count": 51,
   "metadata": {},
   "outputs": [
    {
     "name": "stdout",
     "output_type": "stream",
     "text": [
      "+---------------+\n",
      "|max(Casualties)|\n",
      "+---------------+\n",
      "|            5.0|\n",
      "+---------------+\n",
      "\n"
     ]
    }
   ],
   "source": [
    "sprk_df_jan.groupBy().max('Casualties').show()"
   ]
  },
  {
   "cell_type": "code",
   "execution_count": 52,
   "metadata": {},
   "outputs": [
    {
     "name": "stdout",
     "output_type": "stream",
     "text": [
      "+---------------+\n",
      "|avg(Casualties)|\n",
      "+---------------+\n",
      "|        0.71875|\n",
      "+---------------+\n",
      "\n"
     ]
    }
   ],
   "source": [
    "sprk_df_jan.groupBy().avg('Casualties').show()"
   ]
  },
  {
   "cell_type": "code",
   "execution_count": 53,
   "metadata": {},
   "outputs": [
    {
     "name": "stdout",
     "output_type": "stream",
     "text": [
      "+------------------+---------------+\n",
      "|    City Or County|sum(Casualties)|\n",
      "+------------------+---------------+\n",
      "|          Bluffton|            0.0|\n",
      "|        Charleston|            6.0|\n",
      "|        Georgetown|            1.0|\n",
      "|             Lyman|            1.0|\n",
      "|            Conway|            1.0|\n",
      "|            Marion|            4.0|\n",
      "|      Beech Island|            0.0|\n",
      "|            Sumter|            1.0|\n",
      "|             Lamar|            0.0|\n",
      "|          Beaufort|            2.0|\n",
      "|         Pendleton|            4.0|\n",
      "|         Fort Mill|            1.0|\n",
      "|          Woodruff|            1.0|\n",
      "|          Florence|            2.0|\n",
      "|           Mc Coll|            1.0|\n",
      "|             Inman|            0.0|\n",
      "|             Aiken|            4.0|\n",
      "|      Simpsonville|            2.0|\n",
      "|Hilton Head Island|            1.0|\n",
      "|             Loris|            2.0|\n",
      "+------------------+---------------+\n",
      "only showing top 20 rows\n",
      "\n"
     ]
    }
   ],
   "source": [
    "# FROM jan2017_sc SELECT `City Or County`, COUNT(`# Killed`) GROUP BY `City Or County`\n",
    "sprk_df_jan.groupBy('City Or County').sum().show()"
   ]
  },
  {
   "cell_type": "markdown",
   "metadata": {},
   "source": [
    "### Join DataFrames"
   ]
  },
  {
   "cell_type": "code",
   "execution_count": 54,
   "metadata": {},
   "outputs": [
    {
     "name": "stdout",
     "output_type": "stream",
     "text": [
      "+--------------+-------+------------------+--------+---------+\n",
      "| Incident Date|  State|    City Or County|# Killed|# Injured|\n",
      "+--------------+-------+------------------+--------+---------+\n",
      "|March 31, 2018|Georgia|Chattooga (county)|       0|        1|\n",
      "|March 31, 2018|Georgia|              Lula|       0|        0|\n",
      "|March 31, 2018|Georgia|         Hephzibah|       0|        1|\n",
      "|March 31, 2018|Georgia|           Atlanta|       1|        0|\n",
      "|March 31, 2018|Georgia|            Athens|       0|        0|\n",
      "+--------------+-------+------------------+--------+---------+\n",
      "only showing top 5 rows\n",
      "\n"
     ]
    }
   ],
   "source": [
    "sprk_df_mar_ga = session.read.csv('data/gun_violence/mar2018_ga.csv', header=True).drop(*['Address', 'Operations'])\n",
    "sprk_df_mar_ga.show(5)"
   ]
  },
  {
   "cell_type": "code",
   "execution_count": 55,
   "metadata": {},
   "outputs": [
    {
     "name": "stdout",
     "output_type": "stream",
     "text": [
      "+--------------+--------------+--------------+--------+---------+-------+------------------+--------+---------+\n",
      "| Incident Date|         State|City Or County|# Killed|# Injured|  State|    City Or County|# Killed|# Injured|\n",
      "+--------------+--------------+--------------+--------+---------+-------+------------------+--------+---------+\n",
      "|March 31, 2018|South Carolina|         Loris|       0|        1|Georgia|Chattooga (county)|       0|        1|\n",
      "|March 31, 2018|South Carolina| Bennettsville|       0|        0|Georgia|Chattooga (county)|       0|        1|\n",
      "|March 31, 2018|South Carolina|     Rock Hill|       1|        0|Georgia|Chattooga (county)|       0|        1|\n",
      "|March 31, 2018|South Carolina|         Loris|       0|        1|Georgia|              Lula|       0|        0|\n",
      "|March 31, 2018|South Carolina| Bennettsville|       0|        0|Georgia|              Lula|       0|        0|\n",
      "+--------------+--------------+--------------+--------+---------+-------+------------------+--------+---------+\n",
      "only showing top 5 rows\n",
      "\n"
     ]
    }
   ],
   "source": [
    "sprk_df_mar.join(sprk_df_mar_ga, on='Incident Date').show(5)"
   ]
  },
  {
   "cell_type": "markdown",
   "metadata": {},
   "source": [
    "<a href='#top' id='log'>back to menu</a>"
   ]
  },
  {
   "cell_type": "markdown",
   "metadata": {},
   "source": [
    "---\n",
    "## LOGISTIC REGRESSION WITH SPARK\n",
    "\n"
   ]
  },
  {
   "cell_type": "code",
   "execution_count": 56,
   "metadata": {},
   "outputs": [
    {
     "name": "stdout",
     "output_type": "stream",
     "text": [
      "+------+----------------+----------------+\n",
      "|Gender|          Height|          Weight|\n",
      "+------+----------------+----------------+\n",
      "|  Male| 73.847017017515|241.893563180437|\n",
      "|  Male|68.7819040458903|162.310472521300|\n",
      "|  Male|74.1101053917849|  212.7408555565|\n",
      "|  Male|71.7309784033377|220.042470303077|\n",
      "|  Male|69.8817958611153|206.349800623871|\n",
      "+------+----------------+----------------+\n",
      "only showing top 5 rows\n",
      "\n"
     ]
    }
   ],
   "source": [
    "df = session.read.csv('data/heights_weights_genders.csv', header=True)\n",
    "df.show(5)"
   ]
  },
  {
   "cell_type": "code",
   "execution_count": 57,
   "metadata": {},
   "outputs": [
    {
     "data": {
      "text/plain": [
       "[('Gender', 'string'), ('Height', 'string'), ('Weight', 'string')]"
      ]
     },
     "execution_count": 57,
     "metadata": {},
     "output_type": "execute_result"
    }
   ],
   "source": [
    "df.dtypes"
   ]
  },
  {
   "cell_type": "markdown",
   "metadata": {},
   "source": [
    "Spark only handles numeric data, so the columns need to be converted appropriately."
   ]
  },
  {
   "cell_type": "code",
   "execution_count": 58,
   "metadata": {},
   "outputs": [
    {
     "data": {
      "text/plain": [
       "DataFrame[Gender: string, Height: double, Weight: double, label: double, features: vector]"
      ]
     },
     "execution_count": 58,
     "metadata": {},
     "output_type": "execute_result"
    }
   ],
   "source": [
    "from pyspark.ml.feature import StringIndexer\n",
    "from pyspark.ml.feature import VectorAssembler\n",
    "from pyspark.ml import Pipeline\n",
    "\n",
    "df = df.withColumn('Height', df.Height.cast('double'))\n",
    "df = df.withColumn('Weight', df.Weight.cast('double'))\n",
    "\n",
    "# Create a StringIndexer:\n",
    "gender_indexer = StringIndexer(inputCol='Gender', outputCol='label')\n",
    "\n",
    "# Make a VectorAssembler for features:\n",
    "features = VectorAssembler(inputCols=['Height', 'Weight'], outputCol='features')\n",
    "\n",
    "pipeline = Pipeline(stages=[gender_indexer, features])\n",
    "transformed = pipeline.fit(df).transform(df)\n",
    "transformed"
   ]
  },
  {
   "cell_type": "code",
   "execution_count": 59,
   "metadata": {},
   "outputs": [
    {
     "name": "stdout",
     "output_type": "stream",
     "text": [
      "+------+----------------+----------------+-----+--------------------+\n",
      "|Gender|          Height|          Weight|label|            features|\n",
      "+------+----------------+----------------+-----+--------------------+\n",
      "|  Male| 73.847017017515|241.893563180437|  0.0|[73.847017017515,...|\n",
      "|  Male|68.7819040458903|  162.3104725213|  0.0|[68.7819040458903...|\n",
      "|  Male|74.1101053917849|  212.7408555565|  0.0|[74.1101053917849...|\n",
      "|  Male|71.7309784033377|220.042470303077|  0.0|[71.7309784033377...|\n",
      "|  Male|69.8817958611153|206.349800623871|  0.0|[69.8817958611153...|\n",
      "+------+----------------+----------------+-----+--------------------+\n",
      "only showing top 5 rows\n",
      "\n"
     ]
    }
   ],
   "source": [
    "transformed.show(5)"
   ]
  },
  {
   "cell_type": "code",
   "execution_count": 60,
   "metadata": {},
   "outputs": [
    {
     "name": "stdout",
     "output_type": "stream",
     "text": [
      "AUC: 0.9631550574549457\n"
     ]
    }
   ],
   "source": [
    "from pyspark.ml.classification import LogisticRegression\n",
    "from pyspark.ml.tuning import ParamGridBuilder, CrossValidator\n",
    "import pyspark.ml.evaluation as evals\n",
    "\n",
    "train, test = transformed.randomSplit([0.8, 0.2])\n",
    "lr = LogisticRegression()\n",
    "\n",
    "# Create ParamMaps for Cross Validation:\n",
    "grid = (ParamGridBuilder().addGrid(lr.regParam, np.arange(0, 0.1, 0.01)).build())\n",
    "\n",
    "# Create model evaluator:\n",
    "evaluator = evals.BinaryClassificationEvaluator(metricName='areaUnderROC')\n",
    "\n",
    "# Create 10-fold CrossValidator:\n",
    "cv = CrossValidator(\n",
    "    estimator=lr, \n",
    "    estimatorParamMaps=grid, \n",
    "    evaluator=evaluator, \n",
    "    numFolds=10\n",
    ")\n",
    "\n",
    "# Cross-validate to find best parameters:\n",
    "models = cv.fit(train)\n",
    "best = models.bestModel\n",
    "\n",
    "# Predict on test set with best model:\n",
    "predictions = best.transform(test)\n",
    "print('AUC:', evaluator.evaluate(predictions))"
   ]
  },
  {
   "cell_type": "code",
   "execution_count": 61,
   "metadata": {},
   "outputs": [
    {
     "name": "stdout",
     "output_type": "stream",
     "text": [
      "Feature Weights:\n"
     ]
    },
    {
     "data": {
      "text/plain": [
       "[(0.49681707035598804,), (-0.20437605039787454,)]"
      ]
     },
     "execution_count": 61,
     "metadata": {},
     "output_type": "execute_result"
    }
   ],
   "source": [
    "weights = best.coefficients\n",
    "weights = [(float(w),) for w in weights]\n",
    "\n",
    "print('Feature Weights:')\n",
    "weights"
   ]
  },
  {
   "cell_type": "markdown",
   "metadata": {},
   "source": [
    "<a href='#top' id='lin'>back to menu</a>"
   ]
  },
  {
   "cell_type": "markdown",
   "metadata": {
    "collapsed": true
   },
   "source": [
    "---\n",
    "## LINEAR REGRESSION WITH SPARK"
   ]
  },
  {
   "cell_type": "code",
   "execution_count": null,
   "metadata": {},
   "outputs": [],
   "source": []
  },
  {
   "cell_type": "code",
   "execution_count": null,
   "metadata": {},
   "outputs": [],
   "source": []
  },
  {
   "cell_type": "code",
   "execution_count": null,
   "metadata": {},
   "outputs": [],
   "source": []
  },
  {
   "cell_type": "markdown",
   "metadata": {},
   "source": [
    "<a href='#top'>back to menu</a>"
   ]
  },
  {
   "cell_type": "code",
   "execution_count": 62,
   "metadata": {},
   "outputs": [],
   "source": [
    "sc.stop()"
   ]
  }
 ],
 "metadata": {
  "kernelspec": {
   "display_name": "Python 3",
   "language": "python",
   "name": "python3"
  },
  "language_info": {
   "codemirror_mode": {
    "name": "ipython",
    "version": 3
   },
   "file_extension": ".py",
   "mimetype": "text/x-python",
   "name": "python",
   "nbconvert_exporter": "python",
   "pygments_lexer": "ipython3",
   "version": "3.6.4"
  }
 },
 "nbformat": 4,
 "nbformat_minor": 1
}
